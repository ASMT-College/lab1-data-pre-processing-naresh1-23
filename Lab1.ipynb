{
  "nbformat": 4,
  "nbformat_minor": 0,
  "metadata": {
    "colab": {
      "provenance": [],
      "authorship_tag": "ABX9TyN0Njj6lSBhC4RkgkIwlSbh",
      "include_colab_link": true
    },
    "kernelspec": {
      "name": "python3",
      "display_name": "Python 3"
    },
    "language_info": {
      "name": "python"
    }
  },
  "cells": [
    {
      "cell_type": "markdown",
      "metadata": {
        "id": "view-in-github",
        "colab_type": "text"
      },
      "source": [
        "<a href=\"https://colab.research.google.com/github/ASMT-College/lab1-data-pre-processing-naresh1-23/blob/main/Lab1.ipynb\" target=\"_parent\"><img src=\"https://colab.research.google.com/assets/colab-badge.svg\" alt=\"Open In Colab\"/></a>"
      ]
    },
    {
      "cell_type": "code",
      "execution_count": 6,
      "metadata": {
        "colab": {
          "base_uri": "https://localhost:8080/"
        },
        "id": "rxBDfnVArJD9",
        "outputId": "cf163640-3b0c-46f5-ef92-725ab4b39ffb"
      },
      "outputs": [
        {
          "output_type": "stream",
          "name": "stdout",
          "text": [
            "Initial Data:\n",
            "    ID     Name   Age       Department   Salary\n",
            "0   1     John  28.0               HR  50000.0\n",
            "1   2     Jane  35.0          Finance  60000.0\n",
            "2   3    Emily   NaN               HR  55000.0\n",
            "3   4  Michael  40.0  Human Resources      NaN\n",
            "4   5    Sarah  29.0               IT  52000.0\n",
            "\n",
            "Cleaned Data:\n",
            "    ID     Name   Age Department   Salary\n",
            "0   1     John  28.0         HR  50000.0\n",
            "1   2     Jane  35.0    Finance  60000.0\n",
            "2   3    Emily  35.7         HR  55000.0\n",
            "3   4  Michael  40.0         HR  58100.0\n",
            "4   5    Sarah  29.0         IT  52000.0\n"
          ]
        }
      ],
      "source": [
        "import pandas as pd\n",
        "\n",
        "df = pd.read_csv('./employee_data.csv')\n",
        "print(\"Initial Data:\\n\", df.head())\n",
        "\n",
        "df['Age'] = df['Age'].fillna(df['Age'].mean())\n",
        "df['Salary'] = df['Salary'].fillna(df['Salary'].mean())\n",
        "df['Department'] = df['Department'].replace({\n",
        "    'Human Resources': 'HR',\n",
        "    'H.R.': 'HR',\n",
        "    'hr': 'HR'\n",
        "})\n",
        "\n",
        "df = df.drop_duplicates(subset='ID', keep='first')\n",
        "\n",
        "print(\"\\nCleaned Data:\\n\", df.head())\n"
      ]
    },
    {
      "cell_type": "code",
      "source": [
        "from sklearn.preprocessing import MinMaxScaler\n",
        "\n",
        "# Step 1: Load the dataset\n",
        "df = pd.read_csv('./student_scores.csv')\n",
        "print(\"Initial Data:\\n\", df.head())\n",
        "\n",
        "# Step 2: Apply Min-Max normalization\n",
        "scaler = MinMaxScaler()\n",
        "df[['Math', 'Science', 'English']] = scaler.fit_transform(df[['Math', 'Science', 'English']])\n",
        "\n",
        "print(\"\\nNormalized Scores:\\n\", df.head())\n"
      ],
      "metadata": {
        "colab": {
          "base_uri": "https://localhost:8080/"
        },
        "id": "eyDVS0RKrQFu",
        "outputId": "8b01f02d-8301-4088-ffd7-06c6dea7c1f1"
      },
      "execution_count": 3,
      "outputs": [
        {
          "output_type": "stream",
          "name": "stdout",
          "text": [
            "Initial Data:\n",
            "    StudentID  Math  Science  English\n",
            "0          1    78       65       80\n",
            "1          2    88       75       85\n",
            "2          3    60       50       55\n",
            "3          4    90       78       92\n",
            "4          5    55       48       58\n",
            "\n",
            "Normalized Scores:\n",
            "    StudentID      Math  Science   English\n",
            "0          1  0.657143  0.53125  0.675676\n",
            "1          2  0.942857  0.84375  0.810811\n",
            "2          3  0.142857  0.06250  0.000000\n",
            "3          4  1.000000  0.93750  1.000000\n",
            "4          5  0.000000  0.00000  0.081081\n"
          ]
        }
      ]
    },
    {
      "cell_type": "code",
      "source": [
        "# Step 1: Load the dataset\n",
        "df = pd.read_csv('./customer_ages.csv')\n",
        "print(\"Initial Data:\\n\", df.head())\n",
        "\n",
        "# Step 2: Create bins and assign labels\n",
        "bins = [18, 30, 50, 100]\n",
        "labels = ['Young', 'Middle-aged', 'Senior']\n",
        "df['AgeGroup'] = pd.cut(df['Age'], bins=bins, labels=labels, right=False)\n",
        "\n",
        "print(\"\\nData after Binning:\\n\", df.head())\n",
        "\n",
        "# Step 3: Calculate distribution of customers in each age group\n",
        "age_group_distribution = df['AgeGroup'].value_counts()\n",
        "print(\"\\nAge Group Distribution:\\n\", age_group_distribution)\n"
      ],
      "metadata": {
        "colab": {
          "base_uri": "https://localhost:8080/"
        },
        "id": "wNvCWLsbrUck",
        "outputId": "edd54b66-8d04-4891-86de-7ec58a18fc44"
      },
      "execution_count": 4,
      "outputs": [
        {
          "output_type": "stream",
          "name": "stdout",
          "text": [
            "Initial Data:\n",
            "    CustomerID  Age\n",
            "0           1   25\n",
            "1           2   42\n",
            "2           3   36\n",
            "3           4   53\n",
            "4           5   28\n",
            "\n",
            "Data after Binning:\n",
            "    CustomerID  Age     AgeGroup\n",
            "0           1   25        Young\n",
            "1           2   42  Middle-aged\n",
            "2           3   36  Middle-aged\n",
            "3           4   53       Senior\n",
            "4           5   28        Young\n",
            "\n",
            "Age Group Distribution:\n",
            " AgeGroup\n",
            "Middle-aged    7\n",
            "Young          5\n",
            "Senior         3\n",
            "Name: count, dtype: int64\n"
          ]
        }
      ]
    },
    {
      "cell_type": "code",
      "source": [
        "from sklearn.feature_selection import SelectKBest, chi2\n",
        "\n",
        "# Step 1: Load the dataset\n",
        "df = pd.read_csv('./medical_data.csv')\n",
        "print(\"Initial Data:\\n\", df.head())\n",
        "\n",
        "# Step 2: Define features and target variable\n",
        "X = df.drop(columns=['Disease'])\n",
        "y = df['Disease']\n",
        "\n",
        "# Step 3: Apply Chi-square feature selection\n",
        "selector = SelectKBest(score_func=chi2, k=3)\n",
        "selector.fit(X, y)\n",
        "\n",
        "# Step 4: Get the top 3 features\n",
        "top_features = X.columns[selector.get_support()]\n",
        "print(\"\\nTop 3 Features for Predicting Disease:\\n\", top_features)\n"
      ],
      "metadata": {
        "colab": {
          "base_uri": "https://localhost:8080/"
        },
        "id": "yp70IvSnrgVw",
        "outputId": "b797c7e6-9dda-4b6d-9fa5-2b5257f89cd2"
      },
      "execution_count": 5,
      "outputs": [
        {
          "output_type": "stream",
          "name": "stdout",
          "text": [
            "Initial Data:\n",
            "    PatientID  Age  BloodPressure  Cholesterol  Glucose  HeartRate  Disease\n",
            "0          1   45            130          180       95         70        1\n",
            "1          2   50            140          200      105         75        1\n",
            "2          3   60            150          240      120         80        1\n",
            "3          4   40            120          170       90         65        0\n",
            "4          5   35            110          160       85         60        0\n",
            "\n",
            "Top 3 Features for Predicting Disease:\n",
            " Index(['Age', 'Cholesterol', 'Glucose'], dtype='object')\n"
          ]
        }
      ]
    }
  ]
}